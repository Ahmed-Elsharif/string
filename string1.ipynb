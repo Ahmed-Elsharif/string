{
 "cells": [
  {
   "cell_type": "code",
   "execution_count": 1,
   "id": "415043a9",
   "metadata": {},
   "outputs": [],
   "source": [
    "name= \"ahmed mohamed\""
   ]
  },
  {
   "cell_type": "code",
   "execution_count": 2,
   "id": "cd185770",
   "metadata": {},
   "outputs": [
    {
     "data": {
      "text/plain": [
       "'amdmhmd'"
      ]
     },
     "execution_count": 2,
     "metadata": {},
     "output_type": "execute_result"
    }
   ],
   "source": [
    "name [::2]"
   ]
  },
  {
   "cell_type": "code",
   "execution_count": 3,
   "id": "8e030ef4",
   "metadata": {},
   "outputs": [
    {
     "data": {
      "text/plain": [
       "'amd'"
      ]
     },
     "execution_count": 3,
     "metadata": {},
     "output_type": "execute_result"
    }
   ],
   "source": [
    "name[0:5:2]"
   ]
  },
  {
   "cell_type": "code",
   "execution_count": null,
   "id": "b8d354bc",
   "metadata": {},
   "outputs": [],
   "source": []
  }
 ],
 "metadata": {
  "kernelspec": {
   "display_name": "Python 3 (ipykernel)",
   "language": "python",
   "name": "python3"
  },
  "language_info": {
   "codemirror_mode": {
    "name": "ipython",
    "version": 3
   },
   "file_extension": ".py",
   "mimetype": "text/x-python",
   "name": "python",
   "nbconvert_exporter": "python",
   "pygments_lexer": "ipython3",
   "version": "3.9.12"
  }
 },
 "nbformat": 4,
 "nbformat_minor": 5
}
