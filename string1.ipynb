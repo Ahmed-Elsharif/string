{
 "cells": [
  {
   "cell_type": "code",
   "execution_count": 28,
   "id": "9d34acb7",
   "metadata": {},
   "outputs": [],
   "source": [
    "name = \"ahmed mohamed \""
   ]
  },
  {
   "cell_type": "code",
   "execution_count": 29,
   "id": "95800a2c",
   "metadata": {},
   "outputs": [
    {
     "data": {
      "text/plain": [
       "'amdmhmd'"
      ]
     },
     "execution_count": 29,
     "metadata": {},
     "output_type": "execute_result"
    }
   ],
   "source": [
    "name [::2]"
   ]
  },
  {
   "cell_type": "code",
   "execution_count": 30,
   "id": "35232ba4",
   "metadata": {},
   "outputs": [
    {
     "data": {
      "text/plain": [
       "'amd'"
      ]
     },
     "execution_count": 30,
     "metadata": {},
     "output_type": "execute_result"
    }
   ],
   "source": [
    "name[0:5:2]"
   ]
  },
  {
   "cell_type": "code",
   "execution_count": 31,
   "id": "19cff27b",
   "metadata": {},
   "outputs": [],
   "source": [
    "statment=name + \" the best\""
   ]
  },
  {
   "cell_type": "code",
   "execution_count": 32,
   "id": "47443a85",
   "metadata": {},
   "outputs": [
    {
     "data": {
      "text/plain": [
       "'ahmed mohamed  the best'"
      ]
     },
     "execution_count": 32,
     "metadata": {},
     "output_type": "execute_result"
    }
   ],
   "source": [
    "statment"
   ]
  },
  {
   "cell_type": "code",
   "execution_count": 33,
   "id": "8607ce8b",
   "metadata": {},
   "outputs": [
    {
     "data": {
      "text/plain": [
       "'ahmed mohamed ahmed mohamed ahmed mohamed '"
      ]
     },
     "execution_count": 33,
     "metadata": {},
     "output_type": "execute_result"
    }
   ],
   "source": [
    "3* name"
   ]
  },
  {
   "cell_type": "code",
   "execution_count": 38,
   "id": "d2c58b86",
   "metadata": {},
   "outputs": [
    {
     "name": "stdout",
     "output_type": "stream",
     "text": [
      "ahmed\n",
      " is the best\n"
     ]
    }
   ],
   "source": [
    "print (\"ahmed\\n is the best\")"
   ]
  },
  {
   "cell_type": "code",
   "execution_count": 40,
   "id": "4e43f94d",
   "metadata": {},
   "outputs": [
    {
     "name": "stdout",
     "output_type": "stream",
     "text": [
      "name\n",
      " go go\n"
     ]
    }
   ],
   "source": [
    "print (\"name\\n go go\")"
   ]
  },
  {
   "cell_type": "code",
   "execution_count": 41,
   "id": "32180511",
   "metadata": {},
   "outputs": [
    {
     "name": "stdout",
     "output_type": "stream",
     "text": [
      "ali\t play\n"
     ]
    }
   ],
   "source": [
    "print('ali\\t play')"
   ]
  },
  {
   "cell_type": "code",
   "execution_count": 47,
   "id": "f01f4ae8",
   "metadata": {},
   "outputs": [
    {
     "name": "stdout",
     "output_type": "stream",
     "text": [
      "mona\\aly\n"
     ]
    }
   ],
   "source": [
    "print (\"mona\\\\aly\")"
   ]
  },
  {
   "cell_type": "code",
   "execution_count": 48,
   "id": "3a559acc",
   "metadata": {},
   "outputs": [
    {
     "name": "stdout",
     "output_type": "stream",
     "text": [
      "mona\\\\aly\n"
     ]
    }
   ],
   "source": [
    "print (r\"mona\\\\aly\")"
   ]
  },
  {
   "cell_type": "code",
   "execution_count": 49,
   "id": "7974f421",
   "metadata": {},
   "outputs": [],
   "source": [
    "A=\"ahmed mohamed mostafa\""
   ]
  },
  {
   "cell_type": "code",
   "execution_count": 57,
   "id": "507b3c37",
   "metadata": {},
   "outputs": [],
   "source": [
    "B=A.upper()"
   ]
  },
  {
   "cell_type": "code",
   "execution_count": 61,
   "id": "64c9877c",
   "metadata": {},
   "outputs": [
    {
     "data": {
      "text/plain": [
       "'AHMED MOHAMED MOSTAFA'"
      ]
     },
     "execution_count": 61,
     "metadata": {},
     "output_type": "execute_result"
    }
   ],
   "source": [
    "B"
   ]
  },
  {
   "cell_type": "code",
   "execution_count": 64,
   "id": "540924ad",
   "metadata": {},
   "outputs": [],
   "source": [
    "C=A.replace(\"ahmed\",\"aly\")"
   ]
  },
  {
   "cell_type": "code",
   "execution_count": 66,
   "id": "e4187b93",
   "metadata": {},
   "outputs": [
    {
     "data": {
      "text/plain": [
       "'aly mohamed mostafa'"
      ]
     },
     "execution_count": 66,
     "metadata": {},
     "output_type": "execute_result"
    }
   ],
   "source": [
    "C"
   ]
  },
  {
   "cell_type": "code",
   "execution_count": 67,
   "id": "f378949e",
   "metadata": {},
   "outputs": [
    {
     "data": {
      "text/plain": [
       "7"
      ]
     },
     "execution_count": 67,
     "metadata": {},
     "output_type": "execute_result"
    }
   ],
   "source": [
    "A.find(\"oh\")"
   ]
  },
  {
   "cell_type": "code",
   "execution_count": 68,
   "id": "764e5a64",
   "metadata": {},
   "outputs": [
    {
     "data": {
      "text/plain": [
       "-1"
      ]
     },
     "execution_count": 68,
     "metadata": {},
     "output_type": "execute_result"
    }
   ],
   "source": [
    "A.find(\"kjm\")"
   ]
  },
  {
   "cell_type": "code",
   "execution_count": null,
   "id": "eb402787",
   "metadata": {},
   "outputs": [],
   "source": []
  }
 ],
 "metadata": {
  "kernelspec": {
   "display_name": "Python 3 (ipykernel)",
   "language": "python",
   "name": "python3"
  },
  "language_info": {
   "codemirror_mode": {
    "name": "ipython",
    "version": 3
   },
   "file_extension": ".py",
   "mimetype": "text/x-python",
   "name": "python",
   "nbconvert_exporter": "python",
   "pygments_lexer": "ipython3",
   "version": "3.9.12"
  }
 },
 "nbformat": 4,
 "nbformat_minor": 5
}
